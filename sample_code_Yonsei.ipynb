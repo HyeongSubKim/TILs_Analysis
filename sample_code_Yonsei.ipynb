{
 "cells": [
  {
   "cell_type": "code",
   "execution_count": 350,
   "metadata": {},
   "outputs": [],
   "source": [
    "%matplotlib inline\n",
    "import cv2\n",
    "import glob\n",
    "import seaborn as sns\n",
    "import numpy as np\n",
    "import pandas as pd\n",
    "from scipy.stats import spearmanr\n",
    "from matplotlib import pyplot as plt\n",
    "import matplotlib.image as mpimg"
   ]
  },
  {
   "cell_type": "code",
   "execution_count": 452,
   "metadata": {},
   "outputs": [],
   "source": [
    "# input_dir_msi_181119 = \"./Yonsei_colon_MSI_predictions/Kang_COLON_WSI_181119_tiled_normalized_v1\"\n",
    "# input_dir_msi_181211 = \"./Yonsei_colon_MSI_predictions/Kang_COLON_WSI_181211_tiled_normalized_v1\"\n",
    "input_dir_msi_Kang_MSI = \"./Yonsei_colon_MSI_predictions/Kang_MSI_WSI_2019_10_07_tiled_normalized_v1\"\n",
    "# input_dir_tils_181119 = \"./Yonsei_tils_map/181119\"\n",
    "# input_dir_tils_181211 = \"./Yonsei_tils_map/181211\"\n",
    "input_dir_tils_Kang_MSI = \"./Yonsei_tils_map/Kang_MSI_WSI_2019_10_07\"\n",
    "\n",
    "# input_imgs_msi_181119 = glob.glob(input_dir_msi_181119+\"/*.png\")\n",
    "# input_imgs_msi_181211 = glob.glob(input_dir_msi_181211+\"/*.png\")\n",
    "input_imgs_msi_Kang_MSI = glob.glob(input_dir_msi_Kang_MSI+\"/H*.png\")\n",
    "\n",
    "# input_imgs_tils_181119 = glob.glob(input_dir_tils_181119+\"/*color.png\")\n",
    "# input_imgs_tils_181211 = glob.glob(input_dir_tils_181211+\"/*color.png\")\n",
    "input_imgs_tils_Kang_MSI = glob.glob(input_dir_tils_Kang_MSI+\"/H*color.png\")\n",
    "\n",
    "input_imgs_msi = input_imgs_msi_Kang_MSI\n",
    "input_imgs_tils = input_imgs_tils_Kang_MSI\n",
    "\n",
    "input_imgs_msi.sort()\n",
    "input_imgs_tils.sort()\n",
    "\n",
    "# for file in input_imgs_msi:\n",
    "#     image_name = file.split('/')[-1].split('.')[0]\n",
    "#     print(image_name+'\\t')\n",
    "\n",
    "# for file in input_imgs_tils:\n",
    "#     image_name = file.split('/')[-1].split('_')[0]\n",
    "#     print(image_name+'\\t')"
   ]
  },
  {
   "cell_type": "code",
   "execution_count": 453,
   "metadata": {},
   "outputs": [],
   "source": [
    "# scale_percent = 43.8\n",
    "# width = int(img_tils.shape[1] * scale_percent / 100)\n",
    "# height = int(img_tils.shape[0] * scale_percent / 100)\n",
    "dim = (81, 196)\n",
    "images_msi = []\n",
    "images_tils = []\n",
    "mapped = zip(input_imgs_msi, input_imgs_tils)\n",
    "for path_msi, path_tils in mapped:\n",
    "    img_msi = cv2.imread(path_msi, cv2.IMREAD_UNCHANGED)\n",
    "    img_tils = cv2.imread(path_tils, cv2.IMREAD_UNCHANGED)\n",
    "    # resize image\n",
    "    resized_tils = cv2.resize(img_tils, dim, interpolation = cv2.INTER_AREA)\n",
    "    images_msi.append(img_msi[:,:,:3])\n",
    "    images_tils.append(resized_tils)\n"
   ]
  },
  {
   "cell_type": "code",
   "execution_count": 454,
   "metadata": {},
   "outputs": [],
   "source": [
    "# find the total number of pixels on each image\n",
    "n_total = []\n",
    "mapped = zip(images_msi, images_tils)\n",
    "for img_msi, img_tils in mapped:\n",
    "    # find ratio b, g, r\n",
    "    n_blue = len(img_tils[img_tils[:, :, 0] == 255])\n",
    "    n_red = len(img_tils[img_tils[:, :, 2] == 255])\n",
    "    n_total.append(n_red+n_blue)"
   ]
  },
  {
   "cell_type": "code",
   "execution_count": 455,
   "metadata": {},
   "outputs": [],
   "source": [
    "ratio_msi = []\n",
    "ratio_tils = []\n",
    "mapped = zip(n_total, images_msi, images_tils)\n",
    "for total, img_msi, img_tils in mapped:\n",
    "    n_red = len(img_tils[img_tils[:, :, 2] == 255])\n",
    "    ratio_tils.append(n_red/total)\n",
    "    # find ratio white/black\n",
    "    n_white = len(img_msi[img_msi[:, :, 0] > 0])\n",
    "    ratio_msi.append(n_white/total)\n",
    "#     print (\"{0:.4f}\".format(n_red/total))"
   ]
  },
  {
   "cell_type": "code",
   "execution_count": 456,
   "metadata": {},
   "outputs": [],
   "source": [
    "d = {'MSI': ratio_msi, 'TILs': ratio_tils}\n",
    "df = pd.DataFrame(data=d)\n",
    "x, y = pd.Series(df['MSI'], name=\"x_var\"), pd.Series(df['TILs'], name=\"y_var\")\n",
    "rho, pval = spearmanr(x,y)"
   ]
  },
  {
   "cell_type": "code",
   "execution_count": 458,
   "metadata": {},
   "outputs": [
    {
     "name": "stdout",
     "output_type": "stream",
     "text": [
      "rho=0.29 pval=0.02\n"
     ]
    },
    {
     "data": {
      "image/png": "[encoded data removed]",
      "text/plain": [
       "<Figure size 360x360 with 1 Axes>"
      ]
     },
     "metadata": {
      "needs_background": "light"
     },
     "output_type": "display_data"
    }
   ],
   "source": [
    "f, ax = plt.subplots(figsize=(5, 5))\n",
    "sns.regplot(x=\"MSI\", y=\"TILs\", data=df, ax=ax)\n",
    "ax.set_title('High MSI and TILs')\n",
    "print (\"rho={0:.2f}\".format(rho), \"pval={0:.2f}\".format(pval))"
   ]
  },
  {
   "cell_type": "code",
   "execution_count": null,
   "metadata": {},
   "outputs": [],
   "source": []
  }
 ],
 "metadata": {
  "kernelspec": {
   "display_name": "cv",
   "language": "python",
   "name": "cv"
  },
  "language_info": {
   "codemirror_mode": {
    "name": "ipython",
    "version": 3
   },
   "file_extension": ".py",
   "mimetype": "text/x-python",
   "name": "python",
   "nbconvert_exporter": "python",
   "pygments_lexer": "ipython3",
   "version": "3.7.5"
  }
 },
 "nbformat": 4,
 "nbformat_minor": 2
}
