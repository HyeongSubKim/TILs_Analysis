{
 "cells": [
  {
   "cell_type": "code",
   "execution_count": 27,
   "metadata": {},
   "outputs": [],
   "source": [
    "import numpy as np\n",
    "import pandas as pd\n",
    "import geopandas as gpd\n",
    "import pysal\n",
    "\n",
    "%matplotlib inline\n",
    "from matplotlib import pyplot, image, colors\n",
    "from shapely.geometry import Polygon\n",
    "np.random.seed(10)"
   ]
  },
  {
   "cell_type": "code",
   "execution_count": 28,
   "metadata": {},
   "outputs": [],
   "source": [
    "# read image\n",
    "img_path = './msi_til_maps/Stomach_Cancer_Stage4_Immunotherapy/SS1668384_binary.png'\n",
    "img = image.imread(img_path)\n",
    "height, width, channel = img.shape\n",
    "# set grid \n",
    "grid = 5\n",
    "n_neighbors = 10\n",
    "cols = list(range(0, width, grid))\n",
    "rows = list(range(0, height, grid))\n",
    "rows.reverse()\n",
    "# find tumor, lympho, msi, and bounding points\n",
    "polygons = []\n",
    "n_tumor = []\n",
    "n_lympho = []\n",
    "n_msi = []\n",
    "for x in cols:\n",
    "    org_y = 0\n",
    "    for y in rows:\n",
    "        polygons.append(Polygon([(x, y), (x+grid, y), (x+grid, y-grid), (x, y-grid)])) \n",
    "        # get the number of lymphocyates in a grid\n",
    "        lympho = img[org_y:org_y+grid, x:x+grid, 0]\n",
    "        n_lympho.append(len(lympho[lympho>0]))\n",
    "        # get the number of tumor in a grid\n",
    "        tumor = img[org_y:org_y+grid, x:x+grid, 2]\n",
    "        n_tumor.append(len(tumor[tumor>0]))\n",
    "        # get the number of msi in a grid but only inside tumor\n",
    "        msi = img[org_y:org_y+grid, x:x+grid, 1]\n",
    "        n_msi.append(sum(msi[np.where(tumor>0)]>0))\n",
    "        org_y += grid\n",
    "# create dataframe\n",
    "img_df = gpd.GeoDataFrame({'lympho':n_lympho, 'tumor':n_tumor, 'msi':n_msi, 'geometry':polygons})"
   ]
  },
  {
   "cell_type": "code",
   "execution_count": 29,
   "metadata": {},
   "outputs": [
    {
     "data": {
      "image/png": "[encoded data removed]",
      "text/plain": [
       "<Figure size 720x720 with 1 Axes>"
      ]
     },
     "metadata": {
      "needs_background": "light"
     },
     "output_type": "display_data"
    }
   ],
   "source": [
    "# compute neighbors\n",
    "neighbors = pysal.lib.weights.distance.KNN.from_dataframe(img_df, k=n_neighbors) \n",
    "# compute Getis Ords Gi* for lympho\n",
    "getis_ord_gi = pysal.explore.esda.G_Local(img_df['lympho'], neighbors, transform='B')\n",
    "# add z-score to the dataframe \n",
    "img_df['z-score'] = getis_ord_gi.Zs\n",
    "# remove nan values\n",
    "img_df['z-score'] = img_df['z-score'].replace(np.nan, 0)\n",
    "# create color scale\n",
    "cmap = colors.LinearSegmentedColormap.from_list(\n",
    "        'Custom cmap', [\"steelblue\", \"white\", \"tomato\"], 10)\n",
    "\n",
    "# plot \n",
    "fig, ax = pyplot.subplots(1, figsize=(10,10))\n",
    "img_df.plot(cmap=cmap, ax=ax, column='z-score', edgecolor='1.0')\n",
    "# turn off bounding box\n",
    "tmp = ax.axis('off')\n",
    "        "
   ]
  },
  {
   "cell_type": "code",
   "execution_count": null,
   "metadata": {},
   "outputs": [],
   "source": []
  }
 ],
 "metadata": {
  "kernelspec": {
   "display_name": "Python env",
   "language": "python",
   "name": "env"
  },
  "language_info": {
   "codemirror_mode": {
    "name": "ipython",
    "version": 3
   },
   "file_extension": ".py",
   "mimetype": "text/x-python",
   "name": "python",
   "nbconvert_exporter": "python",
   "pygments_lexer": "ipython3",
   "version": "3.7.5"
  }
 },
 "nbformat": 4,
 "nbformat_minor": 4
}
